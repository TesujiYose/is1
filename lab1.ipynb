{
 "cells": [
  {
   "cell_type": "markdown",
   "metadata": {},
   "source": [
    "# Problem set №1"
   ]
  },
  {
   "cell_type": "markdown",
   "metadata": {},
   "source": [
    "1 Choose text more then 500 symbols\n",
    "2 Create alphabet and monotone histogram\n",
    "3 Select one of the data compression algo (Shannon-Fano or Huffman coding)\n",
    "4 Obtain compressed code of text\n",
    "5 Calculate entrophy of msg\n",
    "6 Create program that add noise in codede msg (chenge some bits of coded text), % of noise is given [L]"
   ]
  },
  {
   "cell_type": "raw",
   "metadata": {},
   "source": [
    "Data compression \n",
    "1)Shannon-Fano\n",
    "2)Huffman coding"
   ]
  },
  {
   "cell_type": "raw",
   "metadata": {},
   "source": [
    "Shannon-Fano ALGO:\n",
    "1)Create monotone histogram\n",
    "2)...\n",
    "3)entrophy\n"
   ]
  },
  {
   "cell_type": "raw",
   "metadata": {},
   "source": [
    "Huffman coding ALGO:\n",
    "1)Create monotone histogram\n",
    "2)"
   ]
  },
  {
   "cell_type": "code",
   "execution_count": 74,
   "metadata": {},
   "outputs": [
    {
     "data": {
      "image/png": "[encoded data removed]",
      "text/plain": [
       "<Figure size 432x288 with 1 Axes>"
      ]
     },
     "metadata": {
      "needs_background": "light"
     },
     "output_type": "display_data"
    },
    {
     "name": "stdout",
     "output_type": "stream",
     "text": [
      "etaoinshrdlucmfw,gypb.vk“”—’;xj?-!q8‘z4)(+1:63*5920·`]&\n",
      "('1', '8', '4', '3', 't', 'h', 'e', 'g', 'o', 'l', 'd', '-', 'b', 'u', 'a', 'r', 'n', 'p', ',', '(', '0', '9', ')', 'm', 'i', 'c', 's', 'y', 'w', 'k', 'f', 'v', '.', '“', '”', '!', ';', 'q', '’', 'x', 'z', '—', 'j', '?', ':', '‘', '5', '+', '6', '*', '2', '`', ']', '·', '&')\n"
     ]
    }
   ],
   "source": [
    "import pandas as pd\n",
    "import numpy as np\n",
    "import matplotlib.pyplot as plt\n",
    "import seaborn as sns\n",
    "\n",
    "#read from input.txt\n",
    "f=open(\"input.txt\", \"r\",encoding = 'utf-8')\n",
    "if f.mode == 'r':\n",
    "    contents =f.read()\n",
    "   # print(contents)\n",
    "#create dictionaries to add all symbols than in text\n",
    "contents= contents.lower()\n",
    "contents= contents.replace('\\n', '')\n",
    "contents= contents.replace(' ', '')\n",
    "contlen = len(contents)\n",
    "d = {}\n",
    "#init dict\n",
    "for sym in contents:\n",
    "    d[sym] = 0\n",
    "#add values to dict\n",
    "for sym in contents:\n",
    "    d[sym] += 1 \n",
    "#create alphabet for our text\n",
    "#alp= tuple(d.keys())\n",
    "o_alp=[]\n",
    "for w in sorted(d, key=d.get, reverse=True):\n",
    "    o_alp.append(w)\n",
    "o_val=[]\n",
    "for s in t:\n",
    "    o_val.append(d.get(s))\n",
    "\n",
    "    \n",
    "\n",
    "#plt.hist(o_val, bins=len(o_alp))\n",
    "#plt.hist(o_val, bins=len(o_alp))\n",
    "plt.plot(o_alp, (o_val))\n",
    "\n",
    "\n",
    "plt.xlabel('Alphabet')\n",
    "plt.ylabel('Quantity')\n",
    "\n",
    "plt.show()    \n",
    "\n",
    "    \n",
    "print(t)\n",
    "print(alp)\n",
    "#print(d)\n",
    "#print(contlen)\n",
    "#print(temp)"
   ]
  },
  {
   "cell_type": "code",
   "execution_count": null,
   "metadata": {},
   "outputs": [],
   "source": []
  }
 ],
 "metadata": {
  "kernelspec": {
   "display_name": "Python 3",
   "language": "python",
   "name": "python3"
  },
  "language_info": {
   "codemirror_mode": {
    "name": "ipython",
    "version": 3
   },
   "file_extension": ".py",
   "mimetype": "text/x-python",
   "name": "python",
   "nbconvert_exporter": "python",
   "pygments_lexer": "ipython3",
   "version": "3.7.3"
  }
 },
 "nbformat": 4,
 "nbformat_minor": 2
}
